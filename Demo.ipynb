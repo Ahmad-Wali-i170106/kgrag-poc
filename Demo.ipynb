{
 "cells": [
  {
   "cell_type": "markdown",
   "id": "8419041a",
   "metadata": {},
   "source": [
    "# Data Extraction (Text-to-KG)"
   ]
  },
  {
   "cell_type": "code",
   "execution_count": 2,
   "id": "22c372b4",
   "metadata": {},
   "outputs": [
    {
     "name": "stderr",
     "output_type": "stream",
     "text": [
      "/media/wali/D_Drive/DreamAI/KGRAG_POC/kgrag/.venv/lib/python3.12/site-packages/sentence_transformers/cross_encoder/CrossEncoder.py:11: TqdmWarning: IProgress not found. Please update jupyter and ipywidgets. See https://ipywidgets.readthedocs.io/en/stable/user_install.html\n",
      "  from tqdm.autonotebook import tqdm, trange\n"
     ]
    }
   ],
   "source": [
    "import os\n",
    "import time\n",
    "from typing import List, Dict, Any\n",
    "from dotenv import load_dotenv\n",
    "from langchain.globals import set_llm_cache\n",
    "from langchain_community.cache import InMemoryCache\n",
    "from langchain_core.documents.base import Document\n",
    "\n",
    "\n",
    "'''\n",
    "You need the following environment variables:\n",
    "\n",
    "    1. NEO4J_URL (Default=\"bolt://localhost:7687\"), \n",
    "    2. NEO4J_USERNAME (Default=\"neo4j\"), \n",
    "    3. NEO4J_PASSWORD (Default=None), \n",
    "    4. NEO4J_DATABASE (Default=\"neo4j\")\n",
    "    (The above are for establishing a Neo4j Connection and can be passed as arguments as well)\n",
    "    5. MODELS_CACHE_FOLDER (Default=None):- \n",
    "        I'm using SentenceTransformer model \"all-MiniLM-v6-L2\" for creating embeddings to calculate vector similarity.\n",
    "        This is just the path to the folder to use as the cache folder\n",
    "    6. GOOGLE_API_KEY (For ChatGoogleGenerativeAI) or any other API key for env variable if you want to use some other LLM\n",
    "    7. TESSDATA_PREFIX (Might need it for using PyTesseract)\n",
    "'''\n",
    "load_dotenv('../.env')\n",
    "\n",
    "from kgrag.data_extraction import Text2KG\n",
    "from kgrag.parse_pdf import PDFParserMarkdown, OCREngine\n",
    "\n",
    "from langchain_google_genai import ChatGoogleGenerativeAI\n",
    "\n",
    "set_llm_cache(InMemoryCache()) # Set LLM Caching (Optional)\n",
    "\n",
    "# Replace with llm you want to use\n",
    "llm = ChatGoogleGenerativeAI(model=\"models/gemini-1.0-pro\", temperature=0)"
   ]
  },
  {
   "cell_type": "code",
   "execution_count": 3,
   "id": "a03a70b5",
   "metadata": {},
   "outputs": [],
   "source": [
    "# filepath = input(\"Please enter filepath of the file you want to process: \")\n",
    "# filepath = \"../SampleDocs/Leadership-Etsko-Schuitema.pdf\" # ...or any other file you want to use\n",
    "filepath = filepath = \"/media/wali/D_Drive/Documents/Books/C++_Programming_Program_Design_Including_Data_Structure_D.S.Malik_5th_DS.pdf\"\n"
   ]
  },
  {
   "cell_type": "code",
   "execution_count": 4,
   "id": "0df389ae",
   "metadata": {},
   "outputs": [],
   "source": [
    "\n",
    "# Can also accept neo4j_url, neo4j_username, neo4j_password & neo4j_database arguments\n",
    "# if the above mentioned environment variables have not been set\n",
    "text2kg = Text2KG(\n",
    "    llm=llm,\n",
    "    emb_model=None, # By Default, SentenceTransformer is used ot use any other embedding model\n",
    "    disambiguate_nodes=False,\n",
    "    link_nodes=True,\n",
    "    node_vector_similarity_threshold=0.90,\n",
    "    subject=filepath.split('/')[-1].split('.')[0].replace('_',' ').replace('-',' '), # Subject can be anything or nothing - filename works well for most cases\n",
    "    verbose=True\n",
    ") "
   ]
  },
  {
   "cell_type": "code",
   "execution_count": 5,
   "id": "835e0fd1",
   "metadata": {},
   "outputs": [
    {
     "name": "stdout",
     "output_type": "stream",
     "text": [
      "Processing /media/wali/D_Drive/Documents/Books/C++_Programming_Program_Design_Including_Data_Structure_D.S.Malik_5th_DS.pdf...\n",
      "[                                        ] (0/2===================[====================                    ] (1/2===================[========================================] (2/2]\n"
     ]
    }
   ],
   "source": [
    "'''\n",
    "Parse or read the PDF file\n",
    "Can use any parser as long as some conditions are observed in the output:\n",
    "    1. Must be in langchain_core.documents.base.Document format\n",
    "    2. Must contain the following keys in doc.metadata:\n",
    "        1. page\n",
    "        2. filename/filepath or source\n",
    "'''\n",
    "\n",
    "pages =  list(range(42, 44)) #list(range(68,70)) # None\n",
    "\n",
    "parser = PDFParserMarkdown(\n",
    "    pdf_path=filepath,\n",
    "    pages=pages, # Can pass a list of pages to read, useful for debugging\n",
    "    ocr_engine=OCREngine.PYTESSERACT, # 3 OCR Options: PYTESSERACT, LLM, RAPIDOCR (LLM is most accurate)\n",
    ") \n",
    "\n",
    "doc_dicts: List[Dict[str, Any]] = parser.process_pdf_document()\n",
    "\n",
    "docs: List[Document] = [\n",
    "    Document(\n",
    "        page_content=doc['text'],\n",
    "        metadata={**doc['page_metadata'], **doc['doc_metadata']}\n",
    "    )\n",
    "    for doc in doc_dicts\n",
    "]"
   ]
  },
  {
   "cell_type": "code",
   "execution_count": 6,
   "id": "b77ce860",
   "metadata": {},
   "outputs": [
    {
     "name": "stdout",
     "output_type": "stream",
     "text": [
      "###### Introduction\n",
      "\n",
      "Terms such as ‘‘the Internet,’’ which were unfamiliar just 20 years ago are now common.\n",
      "Students in elementary school regularly ‘‘surf ’’ the Internet and use computers to design their\n",
      "classroom projects. Many people use the Internet to look for information and to communicate with others. This is all made possible by the availability of different software, also\n",
      "known as computer programs. Without software, a computer is useless. Software is developed by using programming languages. The programming language C++ is especially well\n",
      "suited for developing software to accomplish specific tasks. Our main objective is to help you\n",
      "learn how to write programs in the C++ programming language. Before you begin\n",
      "programming, it is useful to understand some of the basic terminology and different\n",
      "components of a computer. We begin with an overview of the history of computers.\n",
      "\n",
      "###### A Brief Overview of the History of Computers\n",
      "\n",
      "The first device known to carry out calculations was the abacus. The abacus was invented in\n",
      "Asia but was used in ancient Babylon, China, and throughout Europe until the late middle\n",
      "ages. The abacus uses a system of sliding beads in a rack for addition and subtraction. In 1642,\n",
      "the French philosopher and mathematician Blaise Pascal invented the calculating device\n",
      "called the Pascaline. It had eight movable dials on wheels and could calculate sums up to\n",
      "eight figures long. Both the abacus and Pascaline could perform only addition and subtraction operations. Later in the 17th century, Gottfried von Leibniz invented a device that was\n",
      "able to add, subtract, multiply, and divide. In 1819, Joseph Jacquard, a French weaver,\n",
      "discovered that the weaving instructions for his looms could be stored on cards with holes\n",
      "punched in them. While the cards moved through the loom in sequence, needles passed\n",
      "through the holes and picked up threads of the correct color and texture. A weaver could\n",
      "rearrange the cards and change the pattern being woven. In essence, the cards programmed a\n",
      "loom to produce patterns in cloth. The weaving industry may seem to have little in common\n",
      "with the computer industry. However, the idea of storing information by punching holes on\n",
      "a card proved to be of great importance in the later development of computers.\n",
      "\n",
      "In the early and mid-1800s, Charles Babbage, an English mathematician and physical\n",
      "scientist, designed two calculating machines—the difference engine and the analytical\n",
      "engine. The difference engine could perform complex operations such as squaring\n",
      "numbers automatically. Babbage built a prototype of the difference engine, but the actual\n",
      "device was never produced. The analytical engine’s design included input device, data\n",
      "storage, a control unit that allowed processing instructions in any sequence, and output\n",
      "devices. However, the designs remained in blueprint stage. Most of Babbage’s work is\n",
      "known through the writings of his colleague Ada Augusta, Countess of Lovelace. Augusta\n",
      "is considered the first computer programmer.\n",
      "\n",
      "At the end of the 19th century, U.S. Census officials needed help in accurately tabulating\n",
      "the census data. Herman Hollerith invented a calculating machine that ran on electricity\n",
      "and used punched cards to store data. Hollerith’s machine was immensely successful.\n",
      "Hollerith founded the Tabulating Machine Company, which later became the computer\n",
      "and technology corporation known as IBM.\n",
      "\n",
      "\n",
      "-----\n"
     ]
    }
   ],
   "source": [
    "print(docs[-1].page_content)"
   ]
  },
  {
   "cell_type": "code",
   "execution_count": 7,
   "id": "90717d4b",
   "metadata": {},
   "outputs": [
    {
     "name": "stdout",
     "output_type": "stream",
     "text": [
      "----------------------------------------------------------------------------------------------------\n",
      "Doc # 1\n",
      "Nodes: [Node(id='Computers', type='ComputerSystem'), Node(id='Hardware', type='ComputerSystemComponent'), Node(id='Software', type='ComputerSystemComponent'), Node(id='ComputerLanguage', type='Language'), Node(id='ProgrammingLanguage', type='Language'), Node(id='HighLevelProgrammingLanguage', type='ProgrammingLanguage'), Node(id='Compiler', type='Software'), Node(id='C++', type='ProgrammingLanguage'), Node(id='Algorithm', type='Concept'), Node(id='StructuredDesign', type='ProgrammingMethodology'), Node(id='ObjectOrientedDesign', type='ProgrammingMethodology'), Node(id='StandardC++', type='ProgrammingLanguage'), Node(id='ANSI/ISOStandardC++', type='ProgrammingLanguage')]\n",
      "Relationships: [Relationship(start_node_id='Computers', end_node_id='Hardware', type='HAS_COMPONENT'), Relationship(start_node_id='Computers', end_node_id='Software', type='HAS_COMPONENT'), Relationship(start_node_id='Computers', end_node_id='ComputerLanguage', type='USES'), Relationship(start_node_id='ComputerLanguage', end_node_id='ProgrammingLanguage', type='IS_A'), Relationship(start_node_id='ProgrammingLanguage', end_node_id='HighLevelProgrammingLanguage', type='IS_A'), Relationship(start_node_id='C++', end_node_id='ProgrammingLanguage', type='IS_A'), Relationship(start_node_id='C++', end_node_id='Compiler', type='USES'), Relationship(start_node_id='ProgrammingLanguage', end_node_id='Algorithm', type='USES'), Relationship(start_node_id='ProgrammingLanguage', end_node_id='StructuredDesign', type='USES'), Relationship(start_node_id='ProgrammingLanguage', end_node_id='ObjectOrientedDesign', type='USES'), Relationship(start_node_id='C++', end_node_id='StandardC++', type='IS_A'), Relationship(start_node_id='C++', end_node_id='ANSI/ISOStandardC++', type='IS_A')]\n",
      "\n",
      "----------------------------------------------------------------------------------------------------\n",
      "Doc # 2\n",
      "Nodes: [Node(id='Internet', type='Software'), Node(id='Computer', type='ComputerSystemComponent'), Node(id='Software', type='Software'), Node(id='C++', type='ProgrammingLanguage'), Node(id='Abacus', type='ComputerSystemComponent'), Node(id='Pascaline', type='ComputerSystemComponent'), Node(id='Blaise Pascal', type='Person'), Node(id='Gottfried von Leibniz', type='Person'), Node(id='Joseph Jacquard', type='Person'), Node(id='Loom', type='ComputerSystemComponent'), Node(id='Charles Babbage', type='Person'), Node(id='Difference Engine', type='ComputerSystemComponent'), Node(id='Analytical Engine', type='ComputerSystemComponent'), Node(id='Ada Augusta', type='Person'), Node(id='Herman Hollerith', type='Person'), Node(id='Tabulating Machine Company', type='Company'), Node(id='IBM', type='Company')]\n",
      "Relationships: [Relationship(start_node_id='Internet', end_node_id='Software', type='IS_A'), Relationship(start_node_id='Computer', end_node_id='Software', type='USES'), Relationship(start_node_id='Software', end_node_id='C++', type='IS_A'), Relationship(start_node_id='Abacus', end_node_id='ComputerSystemComponent', type='IS_A'), Relationship(start_node_id='Pascaline', end_node_id='ComputerSystemComponent', type='IS_A'), Relationship(start_node_id='Blaise Pascal', end_node_id='Pascaline', type='INVENTED'), Relationship(start_node_id='Gottfried von Leibniz', end_node_id='ComputerSystemComponent', type='INVENTED'), Relationship(start_node_id='Joseph Jacquard', end_node_id='Loom', type='INVENTED'), Relationship(start_node_id='Loom', end_node_id='ComputerSystemComponent', type='IS_A'), Relationship(start_node_id='Charles Babbage', end_node_id='Difference Engine', type='DESIGNED'), Relationship(start_node_id='Charles Babbage', end_node_id='Analytical Engine', type='DESIGNED'), Relationship(start_node_id='Difference Engine', end_node_id='ComputerSystemComponent', type='IS_A'), Relationship(start_node_id='Analytical Engine', end_node_id='ComputerSystemComponent', type='IS_A'), Relationship(start_node_id='Ada Augusta', end_node_id='Analytical Engine', type='PROGRAMMED'), Relationship(start_node_id='Herman Hollerith', end_node_id='Tabulating Machine Company', type='FOUNDED'), Relationship(start_node_id='Tabulating Machine Company', end_node_id='IBM', type='BECAME')]\n",
      "\n",
      "Matched Node id='Computers' type='ComputerSystem' to Wikidata entity {'id': 'Q50808407', 'url': '//www.wikidata.org/wiki/Q50808407', 'label': 'Computers', 'aliases': [], 'description': 'Academic journal published by MDPI AG , covering the subjects:  Science: Mathematics: Instruments and machines: Electronic computers. Computer science', 'type': 'academic journal'}\n",
      "\n",
      "Matched Node id='Hardware' type='ComputerSystemComponent' to Wikidata entity {'id': 'Q3966', 'url': '//www.wikidata.org/wiki/Q3966', 'label': 'computer hardware', 'aliases': ['hardware'], 'description': 'physical components of a computer', 'type': 'electronics'}\n",
      "\n",
      "Matched Node id='Software' type='ComputerSystemComponent' to Wikidata entity {'id': 'Q7397', 'url': '//www.wikidata.org/wiki/Q7397', 'label': 'software', 'aliases': [], 'description': 'non-tangible executable component of a computer', 'type': 'product category'}\n",
      "\n",
      "Matched Node id='Compiler' type='Software' to Wikidata entity {'id': 'Q1076785', 'url': '//www.wikidata.org/wiki/Q1076785', 'label': 'compiler-compiler', 'aliases': [], 'description': 'program that generates parsers or compilers from source files', 'type': 'software category'}\n",
      "\n",
      "Matched Node id='C++' type='ProgrammingLanguage' to Wikidata entity {'id': 'Q197708', 'url': '//www.wikidata.org/wiki/Q197708', 'label': 'C++/CX', 'aliases': [], 'description': 'language extension for C++ compilers', 'type': 'programming language'}\n",
      "\n",
      "Matched Node id='Algorithm' type='Concept' to Wikidata entity {'id': 'Q3435924', 'url': '//www.wikidata.org/wiki/Q3435924', 'label': 'computational problem', 'aliases': ['algorithmic problem'], 'description': 'set of mathematically defined problem on the properties of a type of mathematical objects', 'type': ''}\n",
      "\n",
      "Matched Node id='Computer' type='ComputerSystemComponent' to Wikidata entity {'id': 'Q7397', 'url': '//www.wikidata.org/wiki/Q7397', 'label': 'software', 'aliases': ['computer software'], 'description': 'non-tangible executable component of a computer', 'type': 'product category'}\n",
      "\n",
      "Matched Node id='Software' type='Software' to Wikidata entity {'id': 'Q166142', 'url': '//www.wikidata.org/wiki/Q166142', 'label': 'application', 'aliases': ['software application'], 'description': 'software program or group of programs designed for end-users', 'type': 'software category'}\n",
      "\n",
      "Matched Node id='Abacus' type='ComputerSystemComponent' to Wikidata entity {'id': 'Q12806', 'url': '//www.wikidata.org/wiki/Q12806', 'label': 'abacus', 'aliases': [], 'description': 'calculating tool', 'type': ''}\n",
      "\n",
      "Matched Node id='Pascaline' type='ComputerSystemComponent' to Wikidata entity {'id': 'Q873501', 'url': '//www.wikidata.org/wiki/Q873501', 'label': \"Pascal's calculator\", 'aliases': ['Pascaline'], 'description': 'mechanical calculator', 'type': ''}\n",
      "\n",
      "Matched Node id='Blaise Pascal' type='Person' to Wikidata entity {'id': 'Q19756606', 'url': '//www.wikidata.org/wiki/Q19756606', 'label': 'Blaise Pascal', 'aliases': [], 'description': 'book', 'type': 'version, edition or translation'}\n",
      "\n",
      "Matched Node id='Gottfried von Leibniz' type='Person' to Wikidata entity {'id': 'Q9047', 'url': '//www.wikidata.org/wiki/Q9047', 'label': 'Gottfried Wilhelm Leibniz', 'aliases': ['Leibniz'], 'description': 'German mathematician and philosopher (1646–1716)', 'type': 'human'}\n",
      "\n",
      "Matched Node id='Joseph Jacquard' type='Person' to Wikidata entity {'id': 'Q310833', 'url': '//www.wikidata.org/wiki/Q310833', 'label': 'Joseph Marie Jacquard', 'aliases': ['Joseph Jacquard'], 'description': 'French inventor', 'type': 'human'}\n",
      "\n",
      "Matched Node id='Loom' type='ComputerSystemComponent' to Wikidata entity {'id': 'Q77327490', 'url': '//www.wikidata.org/wiki/Q77327490', 'label': 'LOOM', 'aliases': [], 'description': 'company', 'type': 'company'}\n",
      "\n",
      "Matched Node id='Charles Babbage' type='Person' to Wikidata entity {'id': 'Q46633', 'url': '//www.wikidata.org/wiki/Q46633', 'label': 'Charles Babbage', 'aliases': ['Babbage'], 'description': 'English mathematician, philosopher, inventor and mechanical engineer who originated the concept of a programmable computer (1791-1871)', 'type': 'human'}\n",
      "\n"
     ]
    },
    {
     "name": "stdout",
     "output_type": "stream",
     "text": [
      "Matched Node id='Difference Engine' type='ComputerSystemComponent' to Wikidata entity {'id': 'Q2622299', 'url': '//www.wikidata.org/wiki/Q2622299', 'label': 'software engine', 'aliases': ['engine'], 'description': 'central part of a computer program', 'type': 'component'}\n",
      "\n",
      "Matched Node id='Analytical Engine' type='ComputerSystemComponent' to Wikidata entity {'id': 'Q485257', 'url': '//www.wikidata.org/wiki/Q485257', 'label': 'analytical engine', 'aliases': [], 'description': 'proposed mechanical general-purpose computer, designed by Charles Babbage', 'type': 'mechanical calculator'}\n",
      "\n",
      "Matched Node id='Ada Augusta' type='Person' to Wikidata entity {'id': 'Q63061870', 'url': '//www.wikidata.org/wiki/Q63061870', 'label': 'Ada Augusta', 'aliases': [], 'description': 'given name duo', 'type': 'double given name'}\n",
      "\n",
      "Matched Node id='Herman Hollerith' type='Person' to Wikidata entity {'id': 'Q103862922', 'url': '//www.wikidata.org/wiki/Q103862922', 'label': 'Hollerith, Herman (1860-1929), engineer', 'aliases': [], 'description': 'encyclopedia article', 'type': 'encyclopedia article'}\n",
      "\n",
      "Matched Node id='Tabulating Machine Company' type='Company' to Wikidata entity {'id': 'Q37156', 'url': '//www.wikidata.org/wiki/Q37156', 'label': 'IBM', 'aliases': ['Tabulating Machine Company'], 'description': 'American multinational technology corporation', 'type': 'software company'}\n",
      "\n",
      "Matched Node id='IBM' type='Company' to Wikidata entity {'id': 'Q37156', 'url': '//www.wikidata.org/wiki/Q37156', 'label': 'IBM', 'aliases': [], 'description': 'American multinational technology corporation', 'type': 'software company'}\n",
      "\n",
      "Matched Nodes:\n",
      "[{'id': 'Q50808407', 'desc': 'Academic journal published by MDPI AG , covering the subjects:  Science: Mathematics: Instruments and machines: Electronic computers. Computer science', 'type': 'ComputerSystem', 'wiki_type': 'academic journal', 'alias': 'Computers', 'url': '//www.wikidata.org/wiki/Q50808407', 'labels': ['Computers']}, {'id': 'Q3966', 'desc': 'physical components of a computer', 'type': 'ComputerSystemComponent', 'wiki_type': 'electronics', 'alias': 'Hardware', 'url': '//www.wikidata.org/wiki/Q3966', 'labels': ['hardware', 'computer hardware']}, {'id': 'Q7397', 'desc': 'non-tangible executable component of a computer', 'type': 'ComputerSystemComponent', 'wiki_type': 'product category', 'alias': 'Software', 'url': '//www.wikidata.org/wiki/Q7397', 'labels': ['software']}, {'id': 'Q1076785', 'desc': 'program that generates parsers or compilers from source files', 'type': 'Software', 'wiki_type': 'software category', 'alias': 'Compiler', 'url': '//www.wikidata.org/wiki/Q1076785', 'labels': ['compiler-compiler']}, {'id': 'Q197708', 'desc': 'language extension for C++ compilers', 'type': 'ProgrammingLanguage', 'wiki_type': 'programming language', 'alias': 'C++', 'url': '//www.wikidata.org/wiki/Q197708', 'labels': ['C++/CX']}, {'id': 'Q3435924', 'desc': 'set of mathematically defined problem on the properties of a type of mathematical objects', 'type': 'Concept', 'wiki_type': '', 'alias': 'Algorithm', 'url': '//www.wikidata.org/wiki/Q3435924', 'labels': ['algorithmic problem', 'computational problem']}, {'id': 'Q7397', 'desc': 'non-tangible executable component of a computer', 'type': 'ComputerSystemComponent', 'wiki_type': 'product category', 'alias': 'Computer', 'url': '//www.wikidata.org/wiki/Q7397', 'labels': ['computer software', 'software']}, {'id': 'Q166142', 'desc': 'software program or group of programs designed for end-users', 'type': 'Software', 'wiki_type': 'software category', 'alias': 'Software', 'url': '//www.wikidata.org/wiki/Q166142', 'labels': ['software application', 'application']}, {'id': 'Q12806', 'desc': 'calculating tool', 'type': 'ComputerSystemComponent', 'wiki_type': '', 'alias': 'Abacus', 'url': '//www.wikidata.org/wiki/Q12806', 'labels': ['abacus']}, {'id': 'Q873501', 'desc': 'mechanical calculator', 'type': 'ComputerSystemComponent', 'wiki_type': '', 'alias': 'Pascaline', 'url': '//www.wikidata.org/wiki/Q873501', 'labels': ['Pascaline', \"Pascal's calculator\"]}, {'id': 'Q19756606', 'desc': 'book', 'type': 'Person', 'wiki_type': 'version, edition or translation', 'alias': 'Blaise Pascal', 'url': '//www.wikidata.org/wiki/Q19756606', 'labels': ['Blaise Pascal']}, {'id': 'Q9047', 'desc': 'German mathematician and philosopher (1646–1716)', 'type': 'Person', 'wiki_type': 'human', 'alias': 'Gottfried von Leibniz', 'url': '//www.wikidata.org/wiki/Q9047', 'labels': ['Leibniz', 'Gottfried Wilhelm Leibniz']}, {'id': 'Q310833', 'desc': 'French inventor', 'type': 'Person', 'wiki_type': 'human', 'alias': 'Joseph Jacquard', 'url': '//www.wikidata.org/wiki/Q310833', 'labels': ['Joseph Jacquard', 'Joseph Marie Jacquard']}, {'id': 'Q77327490', 'desc': 'company', 'type': 'ComputerSystemComponent', 'wiki_type': 'company', 'alias': 'Loom', 'url': '//www.wikidata.org/wiki/Q77327490', 'labels': ['LOOM']}, {'id': 'Q46633', 'desc': 'English mathematician, philosopher, inventor and mechanical engineer who originated the concept of a programmable computer (1791-1871)', 'type': 'Person', 'wiki_type': 'human', 'alias': 'Charles Babbage', 'url': '//www.wikidata.org/wiki/Q46633', 'labels': ['Babbage', 'Charles Babbage']}, {'id': 'Q2622299', 'desc': 'central part of a computer program', 'type': 'ComputerSystemComponent', 'wiki_type': 'component', 'alias': 'Difference Engine', 'url': '//www.wikidata.org/wiki/Q2622299', 'labels': ['engine', 'software engine']}, {'id': 'Q485257', 'desc': 'proposed mechanical general-purpose computer, designed by Charles Babbage', 'type': 'ComputerSystemComponent', 'wiki_type': 'mechanical calculator', 'alias': 'Analytical Engine', 'url': '//www.wikidata.org/wiki/Q485257', 'labels': ['analytical engine']}, {'id': 'Q63061870', 'desc': 'given name duo', 'type': 'Person', 'wiki_type': 'double given name', 'alias': 'Ada Augusta', 'url': '//www.wikidata.org/wiki/Q63061870', 'labels': ['Ada Augusta']}, {'id': 'Q103862922', 'desc': 'encyclopedia article', 'type': 'Person', 'wiki_type': 'encyclopedia article', 'alias': 'Herman Hollerith', 'url': '//www.wikidata.org/wiki/Q103862922', 'labels': ['Hollerith, Herman (1860-1929), engineer']}, {'id': 'Q37156', 'desc': 'American multinational technology corporation', 'type': 'Company', 'wiki_type': 'software company', 'alias': 'Tabulating Machine Company', 'url': '//www.wikidata.org/wiki/Q37156', 'labels': ['Tabulating Machine Company', 'IBM']}, {'id': 'Q37156', 'desc': 'American multinational technology corporation', 'type': 'Company', 'wiki_type': 'software company', 'alias': 'IBM', 'url': '//www.wikidata.org/wiki/Q37156', 'labels': ['IBM']}]\n",
      "\n",
      "\n",
      "Unmatched Nodes:\n",
      "[Node(id='ComputerLanguage', type='Language'), Node(id='ProgrammingLanguage', type='Language'), Node(id='HighLevelProgrammingLanguage', type='ProgrammingLanguage'), Node(id='StructuredDesign', type='ProgrammingMethodology'), Node(id='ObjectOrientedDesign', type='ProgrammingMethodology'), Node(id='StandardC++', type='ProgrammingLanguage'), Node(id='ANSI/ISOStandardC++', type='ProgrammingLanguage'), Node(id='Internet', type='Software')]\n",
      "\n",
      "[{'nne': None}, {'nne': None}, {'nne': None}, {'nne': None}, {'nne': None}, {'nne': None}, {'nne': None}, {'nne': None}, {'nne': None}, {'nne': None}, {'nne': None}, {'nne': None}, {'nne': None}, {'nne': None}, {'nne': None}, {'nne': None}, {'nne': None}, {'nne': None}, {'nne': None}, {'nne': None}, {'nne': None}]\n",
      "[{'nnn': {'alias': ['ComputerLanguage'], 'id': 'ComputerLanguage'}}]\n",
      "[{'nnn': {'alias': ['ComputerLanguage', 'ProgrammingLanguage'], 'id': 'ComputerLanguage'}}]\n",
      "[{'nnn': {'alias': ['HighLevelProgrammingLanguage'], 'id': 'HighLevelProgrammingLanguage'}}]\n",
      "[{'nnn': {'alias': ['StructuredDesign'], 'id': 'StructuredDesign'}}]\n",
      "[{'nnn': {'alias': ['ObjectOrientedDesign'], 'id': 'ObjectOrientedDesign'}}]\n",
      "[{'nnn': {'alias': ['StandardC++'], 'id': 'StandardC++'}}]\n",
      "[{'nnn': {'alias': ['ANSI/ISOStandardC++'], 'id': 'ANSI/ISOStandardC++'}}]\n",
      "[{'nnn': {'alias': ['Internet'], 'id': 'Internet'}}]\n"
     ]
    },
    {
     "ename": "ClientError",
     "evalue": "{code: Neo.ClientError.Procedure.ProcedureCallFailed} {message: Failed to invoke procedure `db.index.fulltext.queryNodes`: Caused by: org.apache.lucene.queryparser.classic.TokenMgrError: Lexical error at line 1, column 18.  Encountered: <EOF> after prefix \"/ISOStandardC\" (in lexical state 2)}",
     "output_type": "error",
     "traceback": [
      "\u001b[0;31m---------------------------------------------------------------------------\u001b[0m",
      "\u001b[0;31mClientError\u001b[0m                               Traceback (most recent call last)",
      "Cell \u001b[0;32mIn[7], line 2\u001b[0m\n\u001b[1;32m      1\u001b[0m start_time \u001b[38;5;241m=\u001b[39m time\u001b[38;5;241m.\u001b[39mprocess_time()\n\u001b[0;32m----> 2\u001b[0m \u001b[43mtext2kg\u001b[49m\u001b[38;5;241;43m.\u001b[39;49m\u001b[43mprocess_documents\u001b[49m\u001b[43m(\u001b[49m\u001b[43mdocs\u001b[49m\u001b[43m)\u001b[49m\n\u001b[1;32m      3\u001b[0m end_time \u001b[38;5;241m=\u001b[39m time\u001b[38;5;241m.\u001b[39mprocess_time()\n\u001b[1;32m      4\u001b[0m \u001b[38;5;28mprint\u001b[39m(\u001b[38;5;124mf\u001b[39m\u001b[38;5;124m\"\u001b[39m\u001b[38;5;124mTotal Time: \u001b[39m\u001b[38;5;132;01m{\u001b[39;00mend_time\u001b[38;5;250m \u001b[39m\u001b[38;5;241m-\u001b[39m\u001b[38;5;250m \u001b[39mstart_time\u001b[38;5;132;01m}\u001b[39;00m\u001b[38;5;124m\"\u001b[39m)\n",
      "File \u001b[0;32m/media/wali/D_Drive/DreamAI/KGRAG_POC/kgrag/kgrag/data_extraction.py:494\u001b[0m, in \u001b[0;36mText2KG.process_documents\u001b[0;34m(self, docs)\u001b[0m\n\u001b[1;32m    492\u001b[0m \u001b[38;5;28mself\u001b[39m\u001b[38;5;241m.\u001b[39m_upsert_matched_nodes(matched_nodes)\n\u001b[1;32m    493\u001b[0m \u001b[38;5;28mself\u001b[39m\u001b[38;5;241m.\u001b[39m_upsert_nodes(nodes)\n\u001b[0;32m--> 494\u001b[0m \u001b[38;5;28;43mself\u001b[39;49m\u001b[38;5;241;43m.\u001b[39;49m\u001b[43m_upsert_rels\u001b[49m\u001b[43m(\u001b[49m\u001b[43mrels\u001b[49m\u001b[43m)\u001b[49m\n\u001b[1;32m    495\u001b[0m \u001b[38;5;28mself\u001b[39m\u001b[38;5;241m.\u001b[39m_create_text_nodes(docs)\n",
      "File \u001b[0;32m/media/wali/D_Drive/DreamAI/KGRAG_POC/kgrag/kgrag/data_extraction.py:324\u001b[0m, in \u001b[0;36mText2KG._upsert_rels\u001b[0;34m(self, rels)\u001b[0m\n\u001b[1;32m    299\u001b[0m         query \u001b[38;5;241m=\u001b[39m \u001b[38;5;124m\"\"\"\u001b[39m\u001b[38;5;124mUNWIND $rels AS r\u001b[39m\n\u001b[1;32m    300\u001b[0m \u001b[38;5;124mCALL (r) \u001b[39m\u001b[38;5;124m{\u001b[39m\n\u001b[1;32m    301\u001b[0m \u001b[38;5;124m    CALL db.index.fulltext.queryNodes(\u001b[39m\u001b[38;5;124m'\u001b[39m\u001b[38;5;124mIDsAndAliases\u001b[39m\u001b[38;5;124m'\u001b[39m\u001b[38;5;124m, r.start_node_id) YIELD node, score\u001b[39m\n\u001b[0;32m   (...)\u001b[0m\n\u001b[1;32m    312\u001b[0m \u001b[38;5;124mCALL apoc.merge.relationship(start_node, r.type, r.properties, \u001b[39m\u001b[38;5;132;01m{}\u001b[39;00m\u001b[38;5;124m, end_node, \u001b[39m\u001b[38;5;132;01m{}\u001b[39;00m\u001b[38;5;124m) YIELD rel\u001b[39m\n\u001b[1;32m    313\u001b[0m \u001b[38;5;124mRETURN DISTINCT start_node\u001b[39m\u001b[38;5;124m{\u001b[39m\u001b[38;5;124m.id,.alias}, rel, end_node\u001b[39m\u001b[38;5;124m{\u001b[39m\u001b[38;5;124m.id, .alias};\u001b[39m\u001b[38;5;124m\"\"\"\u001b[39m\n\u001b[1;32m    315\u001b[0m         rels \u001b[38;5;241m=\u001b[39m [\n\u001b[1;32m    316\u001b[0m             {\n\u001b[1;32m    317\u001b[0m                 \u001b[38;5;124m\"\u001b[39m\u001b[38;5;124mstart_node_id\u001b[39m\u001b[38;5;124m\"\u001b[39m: \u001b[38;5;124m'\u001b[39m\u001b[38;5;124m \u001b[39m\u001b[38;5;124m'\u001b[39m\u001b[38;5;241m.\u001b[39mjoin([r\u001b[38;5;241m.\u001b[39mstrip() \u001b[38;5;28;01mfor\u001b[39;00m r \u001b[38;5;129;01min\u001b[39;00m remove_lucene_chars(rel\u001b[38;5;241m.\u001b[39mstart_node_id)\u001b[38;5;241m.\u001b[39msplit(\u001b[38;5;124m'\u001b[39m\u001b[38;5;124m \u001b[39m\u001b[38;5;124m'\u001b[39m) \u001b[38;5;28;01mif\u001b[39;00m \u001b[38;5;28mlen\u001b[39m(r\u001b[38;5;241m.\u001b[39mstrip()) \u001b[38;5;241m>\u001b[39m \u001b[38;5;241m0\u001b[39m]),\n\u001b[0;32m   (...)\u001b[0m\n\u001b[1;32m    322\u001b[0m             \u001b[38;5;28;01mfor\u001b[39;00m rel \u001b[38;5;129;01min\u001b[39;00m rels\n\u001b[1;32m    323\u001b[0m         ]\n\u001b[0;32m--> 324\u001b[0m         new_rels: List[Dict[\u001b[38;5;28mstr\u001b[39m, Any]] \u001b[38;5;241m=\u001b[39m \u001b[38;5;28;43mself\u001b[39;49m\u001b[38;5;241;43m.\u001b[39;49m\u001b[43mgraph_query\u001b[49m\u001b[43m(\u001b[49m\u001b[43mquery\u001b[49m\u001b[43m,\u001b[49m\u001b[43m \u001b[49m\u001b[43mparams\u001b[49m\u001b[38;5;241;43m=\u001b[39;49m\u001b[43m{\u001b[49m\u001b[38;5;124;43m\"\u001b[39;49m\u001b[38;5;124;43mrels\u001b[39;49m\u001b[38;5;124;43m\"\u001b[39;49m\u001b[43m:\u001b[49m\u001b[43m \u001b[49m\u001b[43mrels\u001b[49m\u001b[43m,\u001b[49m\u001b[43m \u001b[49m\u001b[38;5;124;43m\"\u001b[39;49m\u001b[38;5;124;43msimilarity_threshold\u001b[39;49m\u001b[38;5;124;43m\"\u001b[39;49m\u001b[43m:\u001b[49m\u001b[43m \u001b[49m\u001b[38;5;28;43mself\u001b[39;49m\u001b[38;5;241;43m.\u001b[39;49m\u001b[43m_ft_sim_thresh\u001b[49m\u001b[43m}\u001b[49m\u001b[43m)\u001b[49m\n\u001b[1;32m    325\u001b[0m         \u001b[38;5;28;01mif\u001b[39;00m \u001b[38;5;28mself\u001b[39m\u001b[38;5;241m.\u001b[39mverbose:\n\u001b[1;32m    326\u001b[0m             \u001b[38;5;28mprint\u001b[39m(new_rels)\n",
      "File \u001b[0;32m/media/wali/D_Drive/DreamAI/KGRAG_POC/kgrag/kgrag/data_extraction.py:164\u001b[0m, in \u001b[0;36mText2KG.graph_query\u001b[0;34m(self, query, params)\u001b[0m\n\u001b[1;32m    162\u001b[0m \u001b[38;5;28;01mtry\u001b[39;00m:\n\u001b[1;32m    163\u001b[0m     data: neo4j\u001b[38;5;241m.\u001b[39mResult \u001b[38;5;241m=\u001b[39m session\u001b[38;5;241m.\u001b[39mrun(Query(text\u001b[38;5;241m=\u001b[39mquery, timeout\u001b[38;5;241m=\u001b[39m\u001b[38;5;28mself\u001b[39m\u001b[38;5;241m.\u001b[39mtimeout), params)\n\u001b[0;32m--> 164\u001b[0m     json_data: List[Dict[\u001b[38;5;28mstr\u001b[39m, Any]] \u001b[38;5;241m=\u001b[39m \u001b[43m[\u001b[49m\u001b[43mr\u001b[49m\u001b[38;5;241;43m.\u001b[39;49m\u001b[43mdata\u001b[49m\u001b[43m(\u001b[49m\u001b[43m)\u001b[49m\u001b[43m \u001b[49m\u001b[38;5;28;43;01mfor\u001b[39;49;00m\u001b[43m \u001b[49m\u001b[43mr\u001b[49m\u001b[43m \u001b[49m\u001b[38;5;129;43;01min\u001b[39;49;00m\u001b[43m \u001b[49m\u001b[43mdata\u001b[49m\u001b[43m]\u001b[49m\n\u001b[1;32m    165\u001b[0m     json_data \u001b[38;5;241m=\u001b[39m [value_sanitize(el) \u001b[38;5;28;01mfor\u001b[39;00m el \u001b[38;5;129;01min\u001b[39;00m json_data]\n\u001b[1;32m    166\u001b[0m     \u001b[38;5;28;01mreturn\u001b[39;00m json_data\n",
      "File \u001b[0;32m/media/wali/D_Drive/DreamAI/KGRAG_POC/kgrag/.venv/lib/python3.12/site-packages/neo4j/_sync/work/result.py:378\u001b[0m, in \u001b[0;36mResult.__iter__\u001b[0;34m(self)\u001b[0m\n\u001b[1;32m    376\u001b[0m     \u001b[38;5;28;01myield\u001b[39;00m \u001b[38;5;28mself\u001b[39m\u001b[38;5;241m.\u001b[39m_record_buffer\u001b[38;5;241m.\u001b[39mpopleft()\n\u001b[1;32m    377\u001b[0m \u001b[38;5;28;01melif\u001b[39;00m \u001b[38;5;28mself\u001b[39m\u001b[38;5;241m.\u001b[39m_streaming:\n\u001b[0;32m--> 378\u001b[0m     \u001b[38;5;28;43mself\u001b[39;49m\u001b[38;5;241;43m.\u001b[39;49m\u001b[43m_connection\u001b[49m\u001b[38;5;241;43m.\u001b[39;49m\u001b[43mfetch_message\u001b[49m\u001b[43m(\u001b[49m\u001b[43m)\u001b[49m\n\u001b[1;32m    379\u001b[0m \u001b[38;5;28;01melif\u001b[39;00m \u001b[38;5;28mself\u001b[39m\u001b[38;5;241m.\u001b[39m_discarding:\n\u001b[1;32m    380\u001b[0m     \u001b[38;5;28mself\u001b[39m\u001b[38;5;241m.\u001b[39m_discard()\n",
      "File \u001b[0;32m/media/wali/D_Drive/DreamAI/KGRAG_POC/kgrag/.venv/lib/python3.12/site-packages/neo4j/_sync/io/_common.py:178\u001b[0m, in \u001b[0;36mConnectionErrorHandler.__getattr__.<locals>.outer.<locals>.inner\u001b[0;34m(*args, **kwargs)\u001b[0m\n\u001b[1;32m    176\u001b[0m \u001b[38;5;28;01mdef\u001b[39;00m \u001b[38;5;21minner\u001b[39m(\u001b[38;5;241m*\u001b[39margs, \u001b[38;5;241m*\u001b[39m\u001b[38;5;241m*\u001b[39mkwargs):\n\u001b[1;32m    177\u001b[0m     \u001b[38;5;28;01mtry\u001b[39;00m:\n\u001b[0;32m--> 178\u001b[0m         \u001b[43mfunc\u001b[49m\u001b[43m(\u001b[49m\u001b[38;5;241;43m*\u001b[39;49m\u001b[43margs\u001b[49m\u001b[43m,\u001b[49m\u001b[43m \u001b[49m\u001b[38;5;241;43m*\u001b[39;49m\u001b[38;5;241;43m*\u001b[39;49m\u001b[43mkwargs\u001b[49m\u001b[43m)\u001b[49m\n\u001b[1;32m    179\u001b[0m     \u001b[38;5;28;01mexcept\u001b[39;00m (Neo4jError, ServiceUnavailable, SessionExpired) \u001b[38;5;28;01mas\u001b[39;00m exc:\n\u001b[1;32m    180\u001b[0m         \u001b[38;5;28;01massert\u001b[39;00m \u001b[38;5;129;01mnot\u001b[39;00m asyncio\u001b[38;5;241m.\u001b[39miscoroutinefunction(\u001b[38;5;28mself\u001b[39m\u001b[38;5;241m.\u001b[39m__on_error)\n",
      "File \u001b[0;32m/media/wali/D_Drive/DreamAI/KGRAG_POC/kgrag/.venv/lib/python3.12/site-packages/neo4j/_sync/io/_bolt.py:860\u001b[0m, in \u001b[0;36mBolt.fetch_message\u001b[0;34m(self)\u001b[0m\n\u001b[1;32m    856\u001b[0m \u001b[38;5;66;03m# Receive exactly one message\u001b[39;00m\n\u001b[1;32m    857\u001b[0m tag, fields \u001b[38;5;241m=\u001b[39m \u001b[38;5;28mself\u001b[39m\u001b[38;5;241m.\u001b[39minbox\u001b[38;5;241m.\u001b[39mpop(\n\u001b[1;32m    858\u001b[0m     hydration_hooks\u001b[38;5;241m=\u001b[39m\u001b[38;5;28mself\u001b[39m\u001b[38;5;241m.\u001b[39mresponses[\u001b[38;5;241m0\u001b[39m]\u001b[38;5;241m.\u001b[39mhydration_hooks\n\u001b[1;32m    859\u001b[0m )\n\u001b[0;32m--> 860\u001b[0m res \u001b[38;5;241m=\u001b[39m \u001b[38;5;28;43mself\u001b[39;49m\u001b[38;5;241;43m.\u001b[39;49m\u001b[43m_process_message\u001b[49m\u001b[43m(\u001b[49m\u001b[43mtag\u001b[49m\u001b[43m,\u001b[49m\u001b[43m \u001b[49m\u001b[43mfields\u001b[49m\u001b[43m)\u001b[49m\n\u001b[1;32m    861\u001b[0m \u001b[38;5;28mself\u001b[39m\u001b[38;5;241m.\u001b[39midle_since \u001b[38;5;241m=\u001b[39m monotonic()\n\u001b[1;32m    862\u001b[0m \u001b[38;5;28;01mreturn\u001b[39;00m res\n",
      "File \u001b[0;32m/media/wali/D_Drive/DreamAI/KGRAG_POC/kgrag/.venv/lib/python3.12/site-packages/neo4j/_sync/io/_bolt5.py:370\u001b[0m, in \u001b[0;36mBolt5x0._process_message\u001b[0;34m(self, tag, fields)\u001b[0m\n\u001b[1;32m    368\u001b[0m \u001b[38;5;28mself\u001b[39m\u001b[38;5;241m.\u001b[39m_server_state_manager\u001b[38;5;241m.\u001b[39mstate \u001b[38;5;241m=\u001b[39m \u001b[38;5;28mself\u001b[39m\u001b[38;5;241m.\u001b[39mbolt_states\u001b[38;5;241m.\u001b[39mFAILED\n\u001b[1;32m    369\u001b[0m \u001b[38;5;28;01mtry\u001b[39;00m:\n\u001b[0;32m--> 370\u001b[0m     \u001b[43mresponse\u001b[49m\u001b[38;5;241;43m.\u001b[39;49m\u001b[43mon_failure\u001b[49m\u001b[43m(\u001b[49m\u001b[43msummary_metadata\u001b[49m\u001b[43m \u001b[49m\u001b[38;5;129;43;01mor\u001b[39;49;00m\u001b[43m \u001b[49m\u001b[43m{\u001b[49m\u001b[43m}\u001b[49m\u001b[43m)\u001b[49m\n\u001b[1;32m    371\u001b[0m \u001b[38;5;28;01mexcept\u001b[39;00m (ServiceUnavailable, DatabaseUnavailable):\n\u001b[1;32m    372\u001b[0m     \u001b[38;5;28;01mif\u001b[39;00m \u001b[38;5;28mself\u001b[39m\u001b[38;5;241m.\u001b[39mpool:\n",
      "File \u001b[0;32m/media/wali/D_Drive/DreamAI/KGRAG_POC/kgrag/.venv/lib/python3.12/site-packages/neo4j/_sync/io/_common.py:245\u001b[0m, in \u001b[0;36mResponse.on_failure\u001b[0;34m(self, metadata)\u001b[0m\n\u001b[1;32m    243\u001b[0m handler \u001b[38;5;241m=\u001b[39m \u001b[38;5;28mself\u001b[39m\u001b[38;5;241m.\u001b[39mhandlers\u001b[38;5;241m.\u001b[39mget(\u001b[38;5;124m\"\u001b[39m\u001b[38;5;124mon_summary\u001b[39m\u001b[38;5;124m\"\u001b[39m)\n\u001b[1;32m    244\u001b[0m Util\u001b[38;5;241m.\u001b[39mcallback(handler)\n\u001b[0;32m--> 245\u001b[0m \u001b[38;5;28;01mraise\u001b[39;00m Neo4jError\u001b[38;5;241m.\u001b[39mhydrate(\u001b[38;5;241m*\u001b[39m\u001b[38;5;241m*\u001b[39mmetadata)\n",
      "\u001b[0;31mClientError\u001b[0m: {code: Neo.ClientError.Procedure.ProcedureCallFailed} {message: Failed to invoke procedure `db.index.fulltext.queryNodes`: Caused by: org.apache.lucene.queryparser.classic.TokenMgrError: Lexical error at line 1, column 18.  Encountered: <EOF> after prefix \"/ISOStandardC\" (in lexical state 2)}"
     ]
    }
   ],
   "source": [
    "start_time = time.process_time()\n",
    "text2kg.process_documents(docs)\n",
    "end_time = time.process_time()\n",
    "print(f\"Total Time: {end_time - start_time}\")"
   ]
  },
  {
   "cell_type": "code",
   "execution_count": null,
   "id": "92634180",
   "metadata": {},
   "outputs": [],
   "source": [
    "print(\"Hi\")"
   ]
  },
  {
   "cell_type": "markdown",
   "id": "b47bbeed",
   "metadata": {},
   "source": [
    "# KG Search / Retrieval"
   ]
  },
  {
   "cell_type": "code",
   "execution_count": null,
   "id": "9a9544a1",
   "metadata": {},
   "outputs": [],
   "source": [
    "import os\n",
    "from dotenv import load_dotenv\n",
    "\n",
    "load_dotenv(\"../.env\")\n",
    "\n",
    "from langchain_google_genai import ChatGoogleGenerativeAI\n",
    "\n",
    "from kgrag.kg_search import KGSearch\n",
    "\n",
    "\n",
    "llm = ChatGoogleGenerativeAI(model=\"models/gemini-1.0-pro\", temperature=0)\n",
    "\n"
   ]
  },
  {
   "cell_type": "code",
   "execution_count": null,
   "id": "bf3b74ed",
   "metadata": {},
   "outputs": [],
   "source": [
    "\n",
    "kg_search = KGSearch(\n",
    "    ent_llm=llm,\n",
    "    cypher_llm=llm,\n",
    "    cypher_examples_json=\"examples.json\",\n",
    "    fulltext_search_top_k=5,\n",
    "    vector_search_top_k=5,\n",
    "    vector_search_min_score=0.8\n",
    ")\n",
    "\n",
    "query = input(\"Enter your query: \") # \"How does relation extraction work?\"\n",
    "\n",
    "docs_str = kg_search.retrieve_as_string(\n",
    "    query, \n",
    "    nresults=30,\n",
    "    use_fulltext_search=True, # Extract all entities (using ent_llm) in the input query and search using fulltext search\n",
    "    use_vector_search=True, # Search for all entities/nodes in the query using vector search\n",
    "    generate_cypher=False # Use LLM (cypher_llm) to generate cypher - Uses examples from `cypher_examples_json` for guidance\n",
    ")\n",
    "print(docs_str)\n",
    "'''\n",
    "OR get lists of strings separately using kg_search.retrieve - retrieve_as_string is only a wrapper for this function\n",
    "\n",
    "rels, docs, gen_cypher_results = kg_search.retrieve(\n",
    "    query, \n",
    "    nresults=30,\n",
    "    use_fulltext_search=True, \n",
    "    use_vector_search=True,\n",
    "    generate_cypher=False\n",
    ")\n",
    "rels: All the triples that the entities in the query are involved in \n",
    "     Empty list is returned if `use_fulltext_search=False` & `use_vector_search=False`\n",
    "docs: All the documents that contain any entities mentioned in the query\n",
    "     Empty list is returned if `use_fulltext_search=False` & `use_vector_search=False`\n",
    "gen_cypher_results: List of string/JSON results from the generated cypher\n",
    "     Empty list is returned if `generate_cypher=False`\n",
    "\n",
    "If no entities are found using vector or fulltext search, then a cypher is generated regardless of the value of `generate_cypher`\n",
    "And results are returned in the gen_cypher_results\n",
    "WARNING: Using `generate_cypher` is unreliable and error-prone. Needs more work and more examples from 'examples.json'\n",
    "'''\n"
   ]
  }
 ],
 "metadata": {
  "kernelspec": {
   "display_name": "kgrag-py3.10",
   "language": "python",
   "name": "kgrag-py3.10"
  },
  "language_info": {
   "codemirror_mode": {
    "name": "ipython",
    "version": 3
   },
   "file_extension": ".py",
   "mimetype": "text/x-python",
   "name": "python",
   "nbconvert_exporter": "python",
   "pygments_lexer": "ipython3",
   "version": "3.12.3"
  }
 },
 "nbformat": 4,
 "nbformat_minor": 5
}
